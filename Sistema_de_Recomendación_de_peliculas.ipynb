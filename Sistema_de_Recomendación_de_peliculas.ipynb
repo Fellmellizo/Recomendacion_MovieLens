{
  "nbformat": 4,
  "nbformat_minor": 0,
  "metadata": {
    "colab": {
      "provenance": [],
      "authorship_tag": "ABX9TyM9mJhwxPMp3zXR7QukC7h+",
      "include_colab_link": true
    },
    "kernelspec": {
      "name": "python3",
      "display_name": "Python 3"
    },
    "language_info": {
      "name": "python"
    }
  },
  "cells": [
    {
      "cell_type": "markdown",
      "metadata": {
        "id": "view-in-github",
        "colab_type": "text"
      },
      "source": [
        "<a href=\"https://colab.research.google.com/github/Fellmellizo/Recomendacion_MovieLens/blob/main/Sistema_de_Recomendaci%C3%B3n_de_peliculas.ipynb\" target=\"_parent\"><img src=\"https://colab.research.google.com/assets/colab-badge.svg\" alt=\"Open In Colab\"/></a>"
      ]
    },
    {
      "cell_type": "code",
      "execution_count": 1,
      "metadata": {
        "colab": {
          "base_uri": "https://localhost:8080/"
        },
        "id": "CbCUdnOS3R5p",
        "outputId": "d9536c0d-c157-4270-c98f-08bb606701a4"
      },
      "outputs": [
        {
          "output_type": "stream",
          "name": "stdout",
          "text": [
            "Requirement already satisfied: numpy in /usr/local/lib/python3.10/dist-packages (1.23.5)\n",
            "Requirement already satisfied: pandas in /usr/local/lib/python3.10/dist-packages (1.5.3)\n",
            "Collecting scikit-surprise\n",
            "  Downloading scikit-surprise-1.1.3.tar.gz (771 kB)\n",
            "\u001b[?25l     \u001b[90m━━━━━━━━━━━━━━━━━━━━━━━━━━━━━━━━━━━━━━━━\u001b[0m \u001b[32m0.0/772.0 kB\u001b[0m \u001b[31m?\u001b[0m eta \u001b[36m-:--:--\u001b[0m\r\u001b[2K     \u001b[91m━━━━━━━━━━━━━━━━━━━━━━━━━━━━━━━━━━━━━\u001b[0m\u001b[91m╸\u001b[0m \u001b[32m768.0/772.0 kB\u001b[0m \u001b[31m27.2 MB/s\u001b[0m eta \u001b[36m0:00:01\u001b[0m\r\u001b[2K     \u001b[90m━━━━━━━━━━━━━━━━━━━━━━━━━━━━━━━━━━━━━━\u001b[0m \u001b[32m772.0/772.0 kB\u001b[0m \u001b[31m21.0 MB/s\u001b[0m eta \u001b[36m0:00:00\u001b[0m\n",
            "\u001b[?25h  Preparing metadata (setup.py) ... \u001b[?25l\u001b[?25hdone\n",
            "Requirement already satisfied: python-dateutil>=2.8.1 in /usr/local/lib/python3.10/dist-packages (from pandas) (2.8.2)\n",
            "Requirement already satisfied: pytz>=2020.1 in /usr/local/lib/python3.10/dist-packages (from pandas) (2023.3.post1)\n",
            "Requirement already satisfied: joblib>=1.0.0 in /usr/local/lib/python3.10/dist-packages (from scikit-surprise) (1.3.2)\n",
            "Requirement already satisfied: scipy>=1.3.2 in /usr/local/lib/python3.10/dist-packages (from scikit-surprise) (1.11.2)\n",
            "Requirement already satisfied: six>=1.5 in /usr/local/lib/python3.10/dist-packages (from python-dateutil>=2.8.1->pandas) (1.16.0)\n",
            "Building wheels for collected packages: scikit-surprise\n",
            "  Building wheel for scikit-surprise (setup.py) ... \u001b[?25l\u001b[?25hdone\n",
            "  Created wheel for scikit-surprise: filename=scikit_surprise-1.1.3-cp310-cp310-linux_x86_64.whl size=3156231 sha256=8815dd135becbe1d45ca07b57f14308ac5ec93f7668c55d271e293f17119ac90\n",
            "  Stored in directory: /root/.cache/pip/wheels/a5/ca/a8/4e28def53797fdc4363ca4af740db15a9c2f1595ebc51fb445\n",
            "Successfully built scikit-surprise\n",
            "Installing collected packages: scikit-surprise\n",
            "Successfully installed scikit-surprise-1.1.3\n"
          ]
        }
      ],
      "source": [
        "pip install numpy pandas scikit-surprise"
      ]
    },
    {
      "cell_type": "code",
      "source": [
        "import numpy as np\n",
        "import pandas as pd\n",
        "from surprise import Dataset, Reader, SVD, accuracy\n",
        "from surprise.model_selection import train_test_split\n"
      ],
      "metadata": {
        "id": "ijjwdfwn3fB8"
      },
      "execution_count": 2,
      "outputs": []
    },
    {
      "cell_type": "code",
      "source": [
        "\n",
        "def cargar_datos():\n",
        "    # Descarga el conjunto de datos de MovieLens (100k)\n",
        "    data = Dataset.load_builtin('ml-100k')\n",
        "    return data\n"
      ],
      "metadata": {
        "id": "b4xy3odb3lIC"
      },
      "execution_count": 3,
      "outputs": []
    },
    {
      "cell_type": "code",
      "source": [
        "\n",
        "def crear_modelo(data):\n",
        "    trainset, testset = train_test_split(data, test_size=0.25)\n",
        "\n",
        "    # Usa el algoritmo SVD (Descomposición en Valores Singulares)\n",
        "    algo = SVD()\n",
        "\n",
        "    # Entrena el modelo\n",
        "    algo.fit(trainset)\n",
        "\n",
        "    # Realiza predicciones en el conjunto de prueba\n",
        "    predictions = algo.test(testset)\n",
        "\n",
        "    # Calcula y muestra el RMSE (Error Cuadrático Medio)\n",
        "    print(\"RMSE del modelo:\", accuracy.rmse(predictions))\n",
        "\n",
        "    return algo\n"
      ],
      "metadata": {
        "id": "ywKZgICG3v37"
      },
      "execution_count": 4,
      "outputs": []
    },
    {
      "cell_type": "code",
      "source": [
        "\n",
        "def recomendar_peliculas(modelo, user_id, n=10):\n",
        "    # Lista para almacenar las predicciones del usuario\n",
        "    user_predictions = []\n",
        "\n",
        "    # Predice la calificación para cada película que el usuario no ha calificado\n",
        "    for item_id in range(1, 1683):  # Hay 1682 películas en el conjunto de datos de MovieLens 100k\n",
        "        estimated_rating = modelo.predict(user_id, str(item_id)).est\n",
        "        user_predictions.append((item_id, estimated_rating))\n",
        "\n",
        "    # Ordena las predicciones de mayor a menor calificación estimada\n",
        "    user_predictions.sort(key=lambda x: x[1], reverse=True)\n",
        "\n",
        "    # Retorna las top n películas recomendadas\n",
        "    return user_predictions[:n]\n"
      ],
      "metadata": {
        "id": "m9DO16X13y_J"
      },
      "execution_count": 5,
      "outputs": []
    },
    {
      "cell_type": "code",
      "source": [
        "\n",
        "def main():\n",
        "    data = cargar_datos()\n",
        "    modelo = crear_modelo(data)\n",
        "\n",
        "    user_id = input(\"Ingresa el ID de usuario (ejemplo: '196'): \")\n",
        "    peliculas_recomendadas = recomendar_peliculas(modelo, user_id)\n",
        "\n",
        "    print(\"\\nTop 10 de películas recomendadas:\")\n",
        "    for movie_id, rating_est in peliculas_recomendadas:\n",
        "        print(f\"Película ID: {movie_id}, Calificación Estimada: {rating_est:.2f}\")\n",
        "\n",
        "if __name__ == \"__main__\":\n",
        "    main()\n"
      ],
      "metadata": {
        "colab": {
          "base_uri": "https://localhost:8080/"
        },
        "id": "6WlM8OwS31ka",
        "outputId": "cb8a7239-fdf5-4ad8-bdb4-c4c86456ffb6"
      },
      "execution_count": 8,
      "outputs": [
        {
          "output_type": "stream",
          "name": "stdout",
          "text": [
            "RMSE: 0.9432\n",
            "RMSE del modelo: 0.9431504071420537\n",
            "Ingresa el ID de usuario (ejemplo: '196'): 111\n",
            "\n",
            "Top 10 de películas recomendadas:\n",
            "Película ID: 114, Calificación Estimada: 4.47\n",
            "Película ID: 318, Calificación Estimada: 4.41\n",
            "Película ID: 313, Calificación Estimada: 4.40\n",
            "Película ID: 483, Calificación Estimada: 4.40\n",
            "Película ID: 408, Calificación Estimada: 4.38\n",
            "Película ID: 302, Calificación Estimada: 4.32\n",
            "Película ID: 64, Calificación Estimada: 4.32\n",
            "Película ID: 12, Calificación Estimada: 4.31\n",
            "Película ID: 22, Calificación Estimada: 4.30\n",
            "Película ID: 169, Calificación Estimada: 4.29\n"
          ]
        }
      ]
    }
  ]
}